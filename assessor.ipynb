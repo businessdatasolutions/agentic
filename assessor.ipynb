{
 "cells": [
  {
   "cell_type": "code",
   "execution_count": 137,
   "metadata": {},
   "outputs": [],
   "source": [
    "from langchain.vectorstores import FAISS\n",
    "from langchain.output_parsers import CommaSeparatedListOutputParser\n",
    "from langchain_core.output_parsers import JsonOutputParser\n",
    "from langchain_core.pydantic_v1 import BaseModel, Field\n",
    "from langgraph.graph import Graph\n",
    "from langchain.text_splitter import RecursiveCharacterTextSplitter\n",
    "from typing import List, Any\n",
    "from langchain_core.prompts import PromptTemplate, ChatPromptTemplate\n",
    "from langchain_openai import ChatOpenAI, OpenAIEmbeddings\n",
    "from langchain_core.output_parsers import StrOutputParser\n",
    "from semantic_text_splitter import TextSplitter\n",
    "from dotenv import load_dotenv\n",
    "import os\n",
    "import re\n",
    "import tiktoken\n",
    "import pdfplumber\n",
    "import json\n",
    "\n",
    "# Load environment variables from .env file\n",
    "load_dotenv()\n",
    "\n",
    "# Access the environment variables\n",
    "os.environ['OPENAI_API_KEY'] = os.environ.get(\"OPENAI_API_KEY\")\n",
    "\n",
    "# Set the model as ChatOpenAI\n",
    "model = ChatOpenAI(model_name=\"gpt-4\", temperature=0)\n",
    "\n",
    "pdfs_path = 'pdfs/beroepsproducten/temp/'\n",
    "\n",
    "# List all files in the given folder\n",
    "files = os.listdir(pdfs_path)\n",
    "\n",
    "# Filter out all files that are not PDFs\n",
    "pdf_docs = [f for f in files if f.endswith('.pdf')]\n",
    "\n",
    "\n",
    "class Topic(BaseModel):\n",
    "    topic: str = Field(description=\"Onderwerp van de tekst\") \n",
    "    summary: str = Field(description=\"Samenvatting van de tekst\")\n",
    "    feedback: str = Field(description=\"Feedback\")\n",
    "    vragen: str = Field(description=\"Verdiepende vragen\")"
   ]
  },
  {
   "cell_type": "code",
   "execution_count": 138,
   "metadata": {},
   "outputs": [
    {
     "name": "stdout",
     "output_type": "stream",
     "text": [
      "ABSTRACT Plaatje is AI gegenereerd door Dall- E Maurice van Ha2em 12-03-2024 MASTER MODULE DIGITALE INN O VATIE Inhoud Beroepsopdracht 3 ..................................................................................................................................2 Teamvorming en Kick-off .....................................................................................................................2 Doelstelling: .........................................................................................................................................2 Hoe organiseren we co-creaQe? ..........................................................................................................3 Hoe richten we het ontwerpproces in? ...............................................................................................3 Hoe meten we voortgang en succes? ..................................................................................................3 Welke faciliteiten en resources hebben we nodig? .............................................................................3 Welke afspraken maken we over onze samenwerking. .......................................................................4 Op welke wijze spreken we elkaar aan? ..............................................................................................4 Literatuurlijst: ..........................................................................................................................................5 Beroepsopdracht 3 In mijn eerdere analyse kwam al ter sprake dat er een krapte op de arbeidsmarkt is die de aankomende jaren verder zal gaan toenemen. Door nieuwe technologieën zien we mogelijkheden ontstaan om de processen in de winkel verder te opQmaliseren of te automaQseren. De implementaQe van intelligente camera’s voor het inventariseren van de voorraad of voor diefstalprevenQe zou daarin zeer interessant kunnen zijn voor SPAR. Ik zou graag verder onderzoek willen doen naar intelligente camera’s die voor diefstalprevenQe of voorraadinventarisaQe te gebruiken is. Teamvorming en Kick-off Om deze digitale innovaQe verder uit te denken en op te pakken heb ik een mulQdisciplinair team nodig welke bestaat uit de volgende afdelingen: - IT (verschillende domeinen) - Demand planning (verantwoordelijk voor voorraad in de winkel) - Formule - BKWI - InnovaQe - Ondernemers De ontwerpmethode Er zijn verschillende ontwerpmethodes te gebruiken om tot het gewenste eindresultaat te komen. Voor deze innovaQe kies ik nu voor de ontwerpmethode ‘Design Thinking’. Deze methode lijkt mij de meest geschikte methode om deze innovaQe verder uit te gaan werken.\n",
      "\n",
      "Hieronder leg ik uit waarom. Deze methode wordt veel gebruikt bij het oplossen van complexe problemen. Verder is het zo dat ‘Design Thinking’ een bredere kijk heeb als een manier om complexe problemen creaQef aan te pakken, of het nu gaat om een startup, een grote organisaQe of de samenleving als geheel (What Is Design Thinking?, 2023). ‘Design Thinking’ is geen lineair proces, maar het is een iteraQef proces. Na het testen kan er besloten worden om terug te gaan naar eerdere stappen om de oplossing te verfijnen of om door te gaan in de volgende fase van ontwikkeling (Fransen, 2023). Deze combinaQe maakt deze methode volgens mij zeer geschikt om te gebruiken bij het verdere ontwerp van deze innovaQe. Doelstelling: De belangrijkste doelstellingen voor de implementaQe van intelligente camera’s zijn: - Het verminderen van de ‘grijze derving’ (diefstal) door de inzet van intelligente camera’s. - Het verminderen van de operaQonele werkzaamheden die betrekking hebben op het aeandelen van de diefstal en/of voorraadinventarisaQe in de winkel. - Het verbeteren van de klantervaring aan de Self Checkout (SCO) door inzet van intelligente camera’s Met het bereiken van bovenstaande doelstellingen kunnen we een goede businesscase creëren die het uiteindelijk mogelijk zal maken om de innovaQe verder uit te kunnen rollen naar alle andere winkels. Hoe organiseren we co-crea?e? Om de co-creaQe te faciliteren is het belangrijk dat we periodiek met het mulQdisciplinaire team samenkomen om over de innovaQe te sparren, plan van aanpak te bepalen en de voortgang te bespreken. Voordat we het project gaan starten is het goed om een kick-off te plannen waarin we het idee gaan pitchen aan alle betrokkenen en waarbij we de processen in kaart zullen gaan brengen.\n",
      "\n",
      "Hoe richten we het ontwerpproces in? Voor het ontwerpproces lijkt het logisch om de stappen van de ‘Design Thinking’ methode te volgen. Zie onderstaande processtappen Empathize Define Ideate Prototyping Test 1. EmpaQze; Bij deze stap in het proces is het belangrijk het probleem te snappen en je in te leven in je eindgebruikers en klanten. Wat is de ervaring van de gebruiker en klanten bij het probleem en wat zijn hun uitdagingen. 2. Define; Als alle informaQe bekend kan het probleem verder geanalyseerd gaan worden. Het is belangrijk om tot een goede en duidelijke probleemomschrijving te komen. Dit vormt de basis om tot een goede oplossing te komen. 3. Ideate; Tijdens deze fase ga je brainstormen over zoveel mogelijk oplossingen voor het probleem en deze aan de gebruikers en klanten voor te leggen. 4. Prototype; Nadat alle ideeën verzameld zijn, kan het beste idee uitgewerkt gaan worden naar prototype. In deze fase proberen we in een korte Qjd een eerste werkende oplossing neer te ze2en. 5. Test; Op het moment dat het eerste prototype in de prakQjk getest gaan worden. Tijdens deze fase komt er allerlei feedback en inzichten welke gebruikt kunnen worden om naar een perfecte oplossing toe te werken. Hoe meten we voortgang en succes? Bij ieder project is het belangrijk om de voortgang te bewaken en te bepalen of we als team succesvol zijn. Daarvoor is het belangrijk om: - Stellen van duidelijke meetbare doelstellingen. Om te weten wanneer je succesvol bent als team is het belangrijk om SMART doelstellingen te formuleren. Op het moment dat de doelstellingen SMART zijn geeb dat richQng aan het team. Teven kan je gedurende het proces kijken hoe je als team funcQoneert en bepalen of je de juiste impact maakt. - Frequente check-ins met het team. Door regelmaQg samen te komen met het team kan men de voortgang bespreken en kijken hoe het team vordert t.o.v. de vooraf gestelde doelen.\n",
      "\n",
      "Daarnaast kan men de verschillende vervolgstappen onderling uitze2en. - Vieren van successen. Op het moment dat er belangrijke milestones worden behaald of er successen te vieren zijn, zorg dat je deze viert met het team. Door de successen met elkaar te vieren blijb iedereen gemoQveerd en blijb iedereen aangesloten om te blijven werken aan een volgend succes of milestone. Welke faciliteiten en resources hebben we nodig? Om het project succesvol op te starten en te kunnen doorlopen is het belangrijk om: - Dedicated resources beschikbaar te hebben. Dat betekent dat alle betrokken medewerkers van het projec2eam Qjd vrij moeten kunnen maken om aan dit project te kunnen werken. Hierover zal van tevoren akkoord gegeven moeten worden door de stakeholders. - Budget/geld beschikbaar maken voor het project. Het is belangrijk om van tevoren een businesscase te maken en een akkoord te krijgen op de middelen die nodig zijn om het project te kunnen uitvoeren. Welke afspraken maken we over onze samenwerking. Voordat het project begint is het goed om met elkaar in gesprek te gaan over de verwachQngen en de rolverdeling binnen het project. Door dit van tevoren met elkaar te bespreken en de verwachQngen helder te hebben kan men elkaar hierop aanspreken. Dit zorgt voor duidelijkheid en daarmee hopen we opQmaal gebruik te kunnen maken van elkaars Qjd en kwaliteiten. Vanuit de Agile werkwijze is het een standaard werkwijze om een retrospecQve te doen, waarin men bespreekt hoe de afgelopen sprint is verlopen. Hierin is het team in staat om aan te geven welke zaken er goed lopen en te kijken waar meer aandacht aan besteed moet worden om nog effecQever te zijn. Dit lijkt me voor de implementaQe van deze innovaQe met ‘Design Thinking’ ook een goed advies. Op welke wijze spreken we elkaar aan? Een andere belangrijke learning vanuit de Agile werkwijze is transparanQe en duidelijkheid over de taken die door eenieder wordt opgepakt.\n",
      "\n",
      "Het is gebruikelijk om dagelijks een korte stand-up/dagstart te organiseren waarin besproken wordt wat er de dag ervoor is gedaan en wat er die dag zelf opgepakt zal worden. Door dit transparant te maken is het voor iedereen duidelijk wat men verwacht te doen. Op het moment dat dit niet behaald is, is het mogelijk om direct bij te sturen en elkaar aan te spreken waarom bepaalde werkzaamheden niet zijn uitgevoerd. Literatuurlijst: Fransen, R. (2023, 10 september). Wat is Design Thinking? Business Model Innova8e. h2ps:// www.businessmodelinnovaQe.nl/overig/wat-is-design-thinking/ What is design thinking? (2023, 6 maart). McKinsey & Company. h2ps://www.mckinsey.com/ featured-insights/mckinsey-explainers/what-is-design-thinking Litereratuurlijst opgesteld m.b.v. h2ps://www.scribbr.nl/\n",
      "\n"
     ]
    }
   ],
   "source": [
    "def get_pdf_text(pdfs_path, pdf_docs):\n",
    "    text = \"\"\n",
    "    for pdf_doc in pdf_docs:\n",
    "        pdf_path = os.path.join(pdfs_path, pdf_doc)\n",
    "        with pdfplumber.open(pdf_path) as pdf:\n",
    "            for page in pdf.pages:\n",
    "                # Extract text\n",
    "                page_text = page.extract_text(layout=True)\n",
    "                if page_text:\n",
    "                    text += page_text + \"\\n\"\n",
    "\n",
    "                # Extract tables and handle None values\n",
    "                table = page.extract_table()\n",
    "                if table:\n",
    "                    for row in table:\n",
    "                        # Convert each cell to a string, replacing None with an empty string\n",
    "                        cleaned_row = [cell if cell is not None else \"\" for cell in row]\n",
    "                        text += ' | '.join(cleaned_row) + \"\\n\"\n",
    "    return text\n",
    "\n",
    "# def get_text_chunks(text):\n",
    "#     # Maximum number of tokens in a chunk\n",
    "#     max_tokens = 500\n",
    "#     text_splitter = TextSplitter.from_tiktoken_model(\"gpt-3.5-turbo\")\n",
    "#     chunks = text_splitter.chunks(text, max_tokens)\n",
    "#     return chunks\n",
    "\n",
    "def get_text_chunks(text):\n",
    "    text_splitter = TextSplitter.from_tiktoken_model(\"gpt-3.5-turbo\")\n",
    "    chunks = text_splitter.chunks(text, chunk_capacity=(500,1000))\n",
    "    return chunks\n",
    "\n",
    "# get pdf text\n",
    "raw_text = get_pdf_text(pdfs_path, pdf_docs)\n",
    "cleaned_text = re.sub(r'\\s+', ' ', raw_text.strip())\n",
    "\n",
    "# get the text chunks\n",
    "text_chunks = get_text_chunks(cleaned_text)\n",
    "\n",
    "for chunk in text_chunks: print(chunk + \"\\n\")"
   ]
  },
  {
   "cell_type": "code",
   "execution_count": 145,
   "metadata": {},
   "outputs": [],
   "source": [
    "def agent_assessor(docs):\n",
    "    # print(subtopics)\n",
    "    # Set up a parser + inject instructions into the prompt template.\n",
    "    parser = JsonOutputParser(pydantic_object=Topic)\n",
    "    review= []\n",
    "    for doc in docs:\n",
    "        agent_reader_query = \"Jouw taak is om het belangrijkste onderwerp te benoemen in deze tekst: \" + doc + \".\\\n",
    "            Daarnaast moet je een samenvatting geven van de tekst en feedback geven op de tekst. Als laatste stel je één \\\n",
    "            of meer verdiepende vragen waarmee het onderwerp verder onderzocht kan worden. Genereer alleen NEDERLANDSE teksten.\\\n",
    "            Als er in de tekst bedrijfsnamen of persoonsnamen voorkomen, vervang deze dan door 'bedrijf X' of 'persoon N'.\"\n",
    "        prompt = PromptTemplate(\n",
    "            template=\"Voer de opdracht uit.\\n{format_instructions}\\n{query}\\n\",\n",
    "            input_variables=[\"query\"],\n",
    "            partial_variables={\"format_instructions\": parser.get_format_instructions()},\n",
    "        )\n",
    "        chain = prompt | model | parser\n",
    "        result = chain.invoke({\"query\": agent_reader_query})\n",
    "        review.append(result)\n",
    "        print(result)\n",
    "    with open('topics.json', 'w') as f:\n",
    "        json.dump(review, f, indent=4)"
   ]
  },
  {
   "cell_type": "code",
   "execution_count": 146,
   "metadata": {},
   "outputs": [
    {
     "name": "stdout",
     "output_type": "stream",
     "text": [
      "{'topic': \"Digitale innovatie en implementatie van intelligente camera's in bedrijf XXX\", 'summary': \"De tekst gaat over de uitdagingen op de arbeidsmarkt en de mogelijkheden die nieuwe technologieën bieden om processen in bedrijf XXX te optimaliseren. De auteur stelt voor om intelligente camera's te implementeren voor voorraadbeheer en diefstalpreventie. Om deze digitale innovatie te realiseren, is een multidisciplinair team nodig. De auteur kiest voor de 'Design Thinking' ontwerpmethode om deze innovatie verder uit te werken.\", 'feedback': \"De tekst is goed gestructureerd en het doel is duidelijk. Het zou echter nuttig zijn om meer specifieke details te geven over hoe de implementatie van intelligente camera's zou werken en welke stappen er nodig zijn om dit te bereiken. Bovendien zou het nuttig zijn om meer te weten te komen over de rol van elk teamlid in dit proces.\", 'vragen': \"Hoe ziet het implementatieproces van de intelligente camera's er precies uit? Welke uitdagingen kunnen er ontstaan bij de implementatie van deze technologie en hoe kunnen deze worden aangepakt? Wat is de verwachte impact van deze innovatie op de bedrijfsvoering van bedrijf XXX?\"}\n",
      "{'topic': \"Design Thinking en implementatie van intelligente camera's\", 'summary': \"De tekst gaat over de toepassing van 'Design Thinking' bij het oplossen van complexe problemen, met name bij de implementatie van intelligente camera's. De doelstellingen van deze implementatie zijn het verminderen van diefstal en operationele werkzaamheden, en het verbeteren van de klantervaring. Het belang van co-creatie en multidisciplinaire samenwerking wordt ook benadrukt.\", 'feedback': \"De tekst is informatief en geeft een goed overzicht van het onderwerp. Het zou echter nuttig zijn om meer specifieke voorbeelden te geven van hoe 'Design Thinking' in de praktijk wordt toegepast. Bovendien zijn er enkele typfouten die de leesbaarheid kunnen beïnvloeden.\", 'vragen': \"Hoe wordt het succes van de implementatie van intelligente camera's gemeten? Kun je meer uitleggen over het iteratieve proces van 'Design Thinking'? Hoe wordt co-creatie gefaciliteerd in dit project?\"}\n",
      "{'topic': \"Het inrichten van het ontwerpproces volgens de 'Design Thinking' methode\", 'summary': \"De tekst bespreekt hoe het ontwerpproces kan worden ingericht volgens de 'Design Thinking' methode. Deze methode bestaat uit vijf stappen: Empathize, Define, Ideate, Prototype en Test. Het is belangrijk om het probleem te begrijpen, een duidelijke probleemomschrijving te formuleren, zoveel mogelijk oplossingen te brainstormen, het beste idee uit te werken naar een prototype en dit prototype te testen. Daarnaast wordt het belang van het meten van voortgang en succes benadrukt, door middel van het stellen van SMART doelstellingen en frequente check-ins met het team.\", 'feedback': \"De tekst is goed gestructureerd en legt de 'Design Thinking' methode duidelijk uit. Het zou echter nuttig zijn om meer specifieke voorbeelden of case studies te geven om de verschillende stappen van de methode te illustreren. Bovendien zou het nuttig zijn om meer te bespreken over hoe de voortgang en het succes van het project kunnen worden gemeten, buiten het stellen van SMART doelstellingen en het houden van frequente check-ins.\", 'vragen': \"Hoe kan de 'Design Thinking' methode worden aangepast aan verschillende soorten projecten? Wat zijn enkele specifieke uitdagingen die kunnen ontstaan bij het volgen van deze methode en hoe kunnen deze worden aangepakt? Hoe kunnen SMART doelstellingen effectief worden geformuleerd en gemeten?\"}\n",
      "{'topic': 'Projectmanagement en Agile werkwijze', 'summary': 'De tekst gaat over het belang van het vieren van successen binnen een projectteam om motivatie hoog te houden. Het benadrukt ook de noodzaak van toegewijde middelen en budget voor het succesvol uitvoeren van een project. Verder wordt het belang van duidelijke afspraken over samenwerking en rolverdeling binnen het team besproken. De tekst suggereert het gebruik van Agile methoden zoals retrospectives voor continue verbetering en transparantie.', 'feedback': 'De tekst is informatief en biedt nuttige inzichten in projectmanagement en de Agile werkwijze. Het zou echter nuttig zijn om meer specifieke voorbeelden of case studies te geven om de punten te illustreren. Bovendien zijn er enkele typfouten die de leesbaarheid beïnvloeden.', 'vragen': 'Hoe kunnen we de Agile werkwijze effectief implementeren in een niet-technisch team? Wat zijn enkele specifieke technieken om teammotivatie hoog te houden? Hoe kunnen we de benodigde middelen en budget effectief beheren in een project?'}\n",
      "{'topic': 'Dagelijkse stand-up/dagstart en Design Thinking', 'summary': 'De tekst bespreekt het belang van het organiseren van een dagelijkse stand-up/dagstart waarin de taken van de vorige en de huidige dag worden besproken. Dit zorgt voor transparantie en stelt teamleden in staat om elkaar aan te spreken als taken niet zijn voltooid. De tekst bevat ook een literatuurlijst met bronnen over Design Thinking.', 'feedback': 'De tekst is informatief, maar het zou nuttig zijn om meer details te geven over hoe de dagelijkse stand-up/dagstart wordt uitgevoerd en hoe deze bijdraagt aan de productiviteit van het team. Bovendien, hoewel de literatuurlijst nuttig is, wordt Design Thinking niet echt besproken in de tekst zelf.', 'vragen': 'Hoe kan de effectiviteit van een dagelijkse stand-up/dagstart worden gemeten? Wat zijn de voordelen van Design Thinking in een teamomgeving?'}\n"
     ]
    }
   ],
   "source": [
    "agent_assessor(text_chunks)"
   ]
  }
 ],
 "metadata": {
  "kernelspec": {
   "display_name": "myenv",
   "language": "python",
   "name": "python3"
  },
  "language_info": {
   "codemirror_mode": {
    "name": "ipython",
    "version": 3
   },
   "file_extension": ".py",
   "mimetype": "text/x-python",
   "name": "python",
   "nbconvert_exporter": "python",
   "pygments_lexer": "ipython3",
   "version": "3.12.2"
  }
 },
 "nbformat": 4,
 "nbformat_minor": 2
}
